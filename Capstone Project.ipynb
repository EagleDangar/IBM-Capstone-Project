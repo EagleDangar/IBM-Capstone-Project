{
    "nbformat_minor": 1, 
    "cells": [
        {
            "source": "from bs4 import BeautifulSoup\nimport pandas as pd\nimport numpy as np\nimport requests", 
            "cell_type": "code", 
            "execution_count": 1, 
            "outputs": [], 
            "metadata": {}
        }, 
        {
            "source": "wikipage = requests.get(\"https://en.wikipedia.org/wiki/List_of_postal_codes_of_Canada:_M\")\n\nsoup = BeautifulSoup(wikipage.text,\"html.parser\")\n\ntables = soup.find_all(\"table\")\n\nfinal_table = tables[0]\n\ntable_data = [[cell.text for cell in row(\"td\")]\n                         for row in final_table(\"tr\")]\n\ntable_columns = [x.text for x in final_table(\"th\")]", 
            "cell_type": "code", 
            "execution_count": 2, 
            "outputs": [], 
            "metadata": {}
        }, 
        {
            "source": "cluster_df = pd.DataFrame(table_data[1:],columns=table_columns).rename(columns={\"Neighbourhood\\n\":\"Neighbourhood\"})\n\ncluster_df.loc[:,\"Neighbourhood\"] = cluster_df[\"Neighbourhood\"].str.replace('\\n','').values\n\ncluster_assigned_df = cluster_df.loc[cluster_df[\"Borough\"]!=\"Not assigned\",:].reset_index(drop=True)\n\ncluster_assigned_df = cluster_assigned_df.groupby([\"Postcode\",\"Borough\"],as_index=True).apply(lambda x : ','.join(x[\"Neighbourhood\"].tolist()))\n\ncluster_assigned_df = cluster_assigned_df.reset_index().rename(columns={0:\"Neighbourhood\"})", 
            "cell_type": "code", 
            "execution_count": 15, 
            "outputs": [], 
            "metadata": {}
        }, 
        {
            "source": "cluster_assigned_df.loc[:,\"Neighbourhood\"] = cluster_assigned_df.T.apply(lambda x : x[\"Borough\"] if x[\"Neighbourhood\"]==\"Not assigned\" else x[\"Neighbourhood\"]).values", 
            "cell_type": "code", 
            "execution_count": 16, 
            "outputs": [], 
            "metadata": {}
        }, 
        {
            "source": "print(\"Rows : {}  Columns: {}\".format(cluster_assigned_df.shape[0],cluster_assigned_df.shape[1]))", 
            "cell_type": "code", 
            "execution_count": 17, 
            "outputs": [
                {
                    "output_type": "stream", 
                    "name": "stdout", 
                    "text": "Rows : 103  Columns: 3\n"
                }
            ], 
            "metadata": {}
        }, 
        {
            "source": "", 
            "cell_type": "code", 
            "execution_count": null, 
            "outputs": [], 
            "metadata": {}
        }, 
        {
            "source": "", 
            "cell_type": "code", 
            "execution_count": null, 
            "outputs": [], 
            "metadata": {}
        }, 
        {
            "source": "", 
            "cell_type": "code", 
            "execution_count": null, 
            "outputs": [], 
            "metadata": {}
        }
    ], 
    "nbformat": 4, 
    "metadata": {
        "kernelspec": {
            "display_name": "Python 3.6", 
            "name": "python3", 
            "language": "python"
        }, 
        "language_info": {
            "mimetype": "text/x-python", 
            "nbconvert_exporter": "python", 
            "version": "3.6.8", 
            "name": "python", 
            "pygments_lexer": "ipython3", 
            "file_extension": ".py", 
            "codemirror_mode": {
                "version": 3, 
                "name": "ipython"
            }
        }
    }
}