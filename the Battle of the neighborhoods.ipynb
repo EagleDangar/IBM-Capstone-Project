{
 "cells": [
  {
   "cell_type": "markdown",
   "metadata": {},
   "source": [
    "#  Capstone Project\n",
    "\n",
    "## Introduction/Business Problem  \n",
    "\n",
    "### Objective:\n",
    "The idea of this machine learning project is to build a similar neighbourhood recommendation system.\n",
    "### Target Audience:\n",
    "The Business Problem is related to many People who do often switch companies for a better opportunity. But while switching, most of the times people have to change the current Neighbourhood/City/Country. They always wish that they get all same required things like services, enjoyments, clubs, restaurants, hangout places etc in the new Neighbourhood/City/Country. So Is there a way we can recommend them best neighbourhoods near their new office.\n",
    "### Introduction / Business Problem :\n",
    "So Here in this project, we are going to recommend the best and same type of neighbourhoods as their current neighbourhood to a user in terms of service, search for the potential explanation of why a neighbourhood is popular, the cause of complaints in another neighbourhood, or anything else related to neighbourhoods.\n",
    "\n",
    "   #### Success criteria of the project are :\n",
    "     - define common cluster/class values for similar neighborhoods in London / New York\n",
    "     - deliver optimized model for these classes\n",
    "     - provide a list of similar neighborhoods within the chosen cities\n",
    "     - show the recommended neighborhood on a map \n"
   ]
  },
  {
   "cell_type": "markdown",
   "metadata": {},
   "source": [
    "## Data Gathering, Cleansing and Exploratory Data Analysis"
   ]
  },
  {
   "cell_type": "markdown",
   "metadata": {},
   "source": [
    "### Importing libs "
   ]
  },
  {
   "cell_type": "code",
   "execution_count": 1,
   "metadata": {},
   "outputs": [
    {
     "name": "stdout",
     "output_type": "stream",
     "text": [
      "Folium installed\n",
      "Libraries imported.\n",
      "Your credentails:\n",
      "CLIENT_ID: WJALSUPQARDIIVEU4NV1RWEEFGT0DZNNX0KQTVCSX5LZNIGI\n",
      "CLIENT_SECRET:RUZPK1EYFBKDLKNTDF1QKHBOMGYWG3C0JICCP0Y1C5S2LCPK\n"
     ]
    }
   ],
   "source": [
    "import requests # library to handle requests\n",
    "import pandas as pd # library for data analsysis\n",
    "import numpy as np # library to handle data in a vectorized manner\n",
    "import random # library for random number generation\n",
    "\n",
    "from bs4 import BeautifulSoup # library of Beautifulsoup\n",
    "\n",
    "from folium.plugins import MarkerCluster \n",
    "import folium  # plotting library\n",
    " \n",
    "from geopy.geocoders import Nominatim # module to convert an address into latitude and longitude values\n",
    "import pgeocode\n",
    "nomi = pgeocode.Nominatim('CA')\n",
    "\n",
    "\n",
    "# libraries for displaying images\n",
    "from IPython.display import Image \n",
    "from IPython.core.display import HTML \n",
    "    \n",
    "# tranforming json file into a pandas dataframe library\n",
    "from pandas.io.json import json_normalize\n",
    "pd.set_option('display.max_columns', None)\n",
    "\n",
    "print('Folium installed')\n",
    "print('Libraries imported.')\n",
    "\n",
    "\n",
    "colors = [\n",
    "    'red',\n",
    "    'blue',\n",
    "    'gray',\n",
    "    'darkred',\n",
    "    'lightred',\n",
    "    'orange',\n",
    "    'beige',\n",
    "    'green',\n",
    "    'darkgreen',\n",
    "    'lightgreen',\n",
    "    'darkblue',\n",
    "    'lightblue',\n",
    "    'purple',\n",
    "    'darkpurple',\n",
    "    'pink',\n",
    "    'cadetblue',\n",
    "    'lightgray',\n",
    "    'black'\n",
    "]\n",
    "\n",
    "\n",
    "CLIENT_ID = 'WJALSUPQARDIIVEU4NV1RWEEFGT0DZNNX0KQTVCSX5LZNIGI' # your Foursquare ID\n",
    "CLIENT_SECRET = 'RUZPK1EYFBKDLKNTDF1QKHBOMGYWG3C0JICCP0Y1C5S2LCPK' # your Foursquare Secret\n",
    "VERSION = '20180604'\n",
    "LIMIT = 100\n",
    "radius = 500\n",
    "\n",
    "print('Your credentails:')\n",
    "print('CLIENT_ID: ' + CLIENT_ID)\n",
    "print('CLIENT_SECRET:' + CLIENT_SECRET)\n"
   ]
  },
  {
   "cell_type": "markdown",
   "metadata": {},
   "source": [
    "### Getting Wikipage Table Data (Web Scraping part)"
   ]
  },
  {
   "cell_type": "code",
   "execution_count": 2,
   "metadata": {},
   "outputs": [],
   "source": [
    "# getting html text\n",
    "\n",
    "wikipage = requests.get(\"https://en.wikipedia.org/wiki/List_of_postal_codes_of_Canada:_M\")\n",
    "\n",
    "soup = BeautifulSoup(wikipage.text,\"html.parser\")\n",
    "\n",
    "# finding all texts which contains <table> tag\n",
    "tables = soup.find_all(\"table\")\n",
    "\n",
    "# need first table only\n",
    "final_table = tables[0]\n",
    "\n",
    "# getting table data\n",
    "table_data = [[cell.text for cell in row(\"td\")]\n",
    "                         for row in final_table(\"tr\")]\n",
    "#getting table headers\n",
    "table_columns = [x.text for x in final_table(\"th\")]"
   ]
  },
  {
   "cell_type": "markdown",
   "metadata": {},
   "source": [
    "###  Cleaning and formating cluster Dataframe"
   ]
  },
  {
   "cell_type": "code",
   "execution_count": 3,
   "metadata": {},
   "outputs": [],
   "source": [
    "# Creating cluster dataframe using table data and table columns and removing '\\n'\n",
    "cluster_df = pd.DataFrame(table_data[1:],columns=table_columns).rename(columns={\"Neighbourhood\\n\":\"Neighbourhood\"})\n",
    "\n",
    "cluster_df.loc[:,\"Neighbourhood\"] = cluster_df[\"Neighbourhood\"].str.replace('\\n','').values\n",
    "\n",
    "# Cleaning data\n",
    "cluster_assigned_df = cluster_df.loc[cluster_df[\"Borough\"]!=\"Not assigned\",:].reset_index(drop=True)\n",
    "\n",
    "# Fromating naeighbours into the list\n",
    "cluster_assigned_df = cluster_assigned_df.groupby([\"Postcode\",\"Borough\"],as_index=True).apply(lambda x : ','.join(x[\"Neighbourhood\"].tolist()))\n",
    "\n",
    "cluster_assigned_df = cluster_assigned_df.reset_index().rename(columns={0:\"Neighbourhood\"})\n",
    "\n",
    "# if neighbourhood is 'Not Assigned' then assigning 'Borough' name there\n",
    "cluster_assigned_df.loc[:,\"Neighbourhood\"] = cluster_assigned_df.T.apply(lambda x : x[\"Borough\"] if x[\"Neighbourhood\"]==\"Not assigned\" else x[\"Neighbourhood\"]).values"
   ]
  },
  {
   "cell_type": "markdown",
   "metadata": {},
   "source": [
    "####  Total Rows and Columns "
   ]
  },
  {
   "cell_type": "code",
   "execution_count": 4,
   "metadata": {},
   "outputs": [
    {
     "name": "stdout",
     "output_type": "stream",
     "text": [
      "Rows : 103  Columns: 3\n"
     ]
    }
   ],
   "source": [
    "print(\"Rows : {}  Columns: {}\".format(cluster_assigned_df.shape[0],cluster_assigned_df.shape[1]))"
   ]
  },
  {
   "cell_type": "markdown",
   "metadata": {},
   "source": [
    "### Getting Latitude and Longitude and merging with cluster dataframe "
   ]
  },
  {
   "cell_type": "code",
   "execution_count": 5,
   "metadata": {},
   "outputs": [],
   "source": [
    "# getting lats and long from given method so using this file\n",
    "\n",
    "def get_long_lat(postcode):\n",
    "    \"\"\" Method takes a Series object and returns\n",
    "    a list of Latitude and corresponding Longitude data,\n",
    "    using the pgeocode library.\n",
    "    This method also prints out the coordinate data\"\"\"\n",
    "    \n",
    "    if postcode==\"M7R\":\n",
    "        latitude = 43.637\n",
    "        longitude = -79.616\n",
    "    \n",
    "    else:\n",
    "        location = nomi.query_postal_code(postcode)\n",
    "        latitude = location.latitude\n",
    "        longitude = location.longitude\n",
    "    return [latitude, longitude]"
   ]
  },
  {
   "cell_type": "code",
   "execution_count": 8,
   "metadata": {},
   "outputs": [
    {
     "data": {
      "text/html": [
       "<div>\n",
       "<style scoped>\n",
       "    .dataframe tbody tr th:only-of-type {\n",
       "        vertical-align: middle;\n",
       "    }\n",
       "\n",
       "    .dataframe tbody tr th {\n",
       "        vertical-align: top;\n",
       "    }\n",
       "\n",
       "    .dataframe thead th {\n",
       "        text-align: right;\n",
       "    }\n",
       "</style>\n",
       "<table border=\"1\" class=\"dataframe\">\n",
       "  <thead>\n",
       "    <tr style=\"text-align: right;\">\n",
       "      <th></th>\n",
       "      <th>Postcode</th>\n",
       "      <th>Borough</th>\n",
       "      <th>Neighbourhood</th>\n",
       "      <th>Latitude</th>\n",
       "      <th>Longitude</th>\n",
       "    </tr>\n",
       "  </thead>\n",
       "  <tbody>\n",
       "    <tr>\n",
       "      <td>0</td>\n",
       "      <td>M1B</td>\n",
       "      <td>Scarborough</td>\n",
       "      <td>Rouge,Malvern</td>\n",
       "      <td>43.8113</td>\n",
       "      <td>-79.1930</td>\n",
       "    </tr>\n",
       "    <tr>\n",
       "      <td>1</td>\n",
       "      <td>M1C</td>\n",
       "      <td>Scarborough</td>\n",
       "      <td>Highland Creek,Rouge Hill,Port Union</td>\n",
       "      <td>43.7878</td>\n",
       "      <td>-79.1564</td>\n",
       "    </tr>\n",
       "    <tr>\n",
       "      <td>2</td>\n",
       "      <td>M1E</td>\n",
       "      <td>Scarborough</td>\n",
       "      <td>Guildwood,Morningside,West Hill</td>\n",
       "      <td>43.7678</td>\n",
       "      <td>-79.1866</td>\n",
       "    </tr>\n",
       "    <tr>\n",
       "      <td>3</td>\n",
       "      <td>M1G</td>\n",
       "      <td>Scarborough</td>\n",
       "      <td>Woburn</td>\n",
       "      <td>43.7712</td>\n",
       "      <td>-79.2144</td>\n",
       "    </tr>\n",
       "    <tr>\n",
       "      <td>4</td>\n",
       "      <td>M1H</td>\n",
       "      <td>Scarborough</td>\n",
       "      <td>Cedarbrae</td>\n",
       "      <td>43.7686</td>\n",
       "      <td>-79.2389</td>\n",
       "    </tr>\n",
       "  </tbody>\n",
       "</table>\n",
       "</div>"
      ],
      "text/plain": [
       "  Postcode      Borough                         Neighbourhood  Latitude  \\\n",
       "0      M1B  Scarborough                         Rouge,Malvern   43.8113   \n",
       "1      M1C  Scarborough  Highland Creek,Rouge Hill,Port Union   43.7878   \n",
       "2      M1E  Scarborough       Guildwood,Morningside,West Hill   43.7678   \n",
       "3      M1G  Scarborough                                Woburn   43.7712   \n",
       "4      M1H  Scarborough                             Cedarbrae   43.7686   \n",
       "\n",
       "   Longitude  \n",
       "0   -79.1930  \n",
       "1   -79.1564  \n",
       "2   -79.1866  \n",
       "3   -79.2144  \n",
       "4   -79.2389  "
      ]
     },
     "execution_count": 8,
     "metadata": {},
     "output_type": "execute_result"
    }
   ],
   "source": [
    "clusters_df = cluster_assigned_df.copy()\n",
    "\n",
    "latt_longs = clusters_df[\"Postcode\"].apply(get_long_lat)\n",
    "\n",
    "clusters_df.loc[:,\"Latitude\"] = latt_longs.apply(lambda col: col[0])\n",
    "clusters_df.loc[:,\"Longitude\"] = latt_longs.apply(lambda col: col[1])\n",
    "\n",
    "# Showing first 5 rows \n",
    "\n",
    "clusters_df.head()"
   ]
  },
  {
   "cell_type": "markdown",
   "metadata": {},
   "source": [
    "### visualizing clusters"
   ]
  },
  {
   "cell_type": "code",
   "execution_count": 9,
   "metadata": {
    "scrolled": false
   },
   "outputs": [
    {
     "data": {
      "text/html": [
       "<div style=\"width:100%;\"><div style=\"position:relative;width:100%;height:0;padding-bottom:60%;\"><iframe src=\"data:text/html;charset=utf-8;base64,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\" style=\"position:absolute;width:100%;height:100%;left:0;top:0;border:none !important;\" allowfullscreen webkitallowfullscreen mozallowfullscreen></iframe></div></div>"
      ],
      "text/plain": [
       "<folium.folium.Map at 0x7f27c6740198>"
      ]
     },
     "execution_count": 9,
     "metadata": {},
     "output_type": "execute_result"
    }
   ],
   "source": [
    "clr_i = 0\n",
    "\n",
    "some_map = folium.Map(location=(43.65,-79.38) , zoom_start=11)\n",
    "\n",
    "for city in clusters_df.Borough.unique():\n",
    "    city_neighbs = clusters_df.loc[clusters_df.Borough == city,['Borough','Neighbourhood',\"Postcode\",'Latitude', 'Longitude']]\n",
    "    neighs = folium.map.FeatureGroup()\n",
    "    clr = colors[clr_i]\n",
    "    clr_i+=1\n",
    "    for br,nm,pc,lat,lng in city_neighbs.values:\n",
    "        folium.CircleMarker(\n",
    "            [lat, lng],\n",
    "            radius=3, \n",
    "            color=clr,\n",
    "            fill=True,\n",
    "            popup= \"<br>Borough ==> {} And <br>Neighbourhood ==> {}\".format(br,nm),\n",
    "            fill_opacity=0.8\n",
    "        ).add_to(some_map)\n",
    "\n",
    "some_map"
   ]
  },
  {
   "cell_type": "markdown",
   "metadata": {},
   "source": [
    "### Let's Pick one of the PostCodes and explore the all venues "
   ]
  },
  {
   "cell_type": "code",
   "execution_count": 11,
   "metadata": {},
   "outputs": [],
   "source": [
    "def get_category_type(row):\n",
    "    try:\n",
    "        categories_list = row['categories']\n",
    "    except:\n",
    "        categories_list = row['venue.categories']\n",
    "        \n",
    "    if len(categories_list) == 0:\n",
    "        return None\n",
    "    else:\n",
    "        return categories_list[0]['name']"
   ]
  },
  {
   "cell_type": "code",
   "execution_count": 12,
   "metadata": {},
   "outputs": [],
   "source": [
    "# search_query = borough_df[\"Borough\"]\n",
    "# search_url = 'https://api.foursquare.com/v2/venues/search?client_id={}&client_secret={}&ll={},{}&v={}&query={}&radius={}&limit={}'.format(\n",
    "#     CLIENT_ID, CLIENT_SECRET, latitude, longitude, VERSION, search_query, radius, LIMIT)"
   ]
  },
  {
   "cell_type": "code",
   "execution_count": 13,
   "metadata": {},
   "outputs": [],
   "source": [
    "def explore_venues(neigbh , latitude , longitude):\n",
    "    explore_url = 'https://api.foursquare.com/v2/venues/explore?&client_id={}&client_secret={}&v={}&ll={},{}&radius={}&limit={}'.format(\n",
    "        CLIENT_ID, CLIENT_SECRET,  VERSION, latitude, longitude,  radius,  LIMIT)\n",
    "\n",
    "    result = requests.get(explore_url).json()\n",
    "    \n",
    "#     print(result.keys())\n",
    "    venues = result[\"response\"][\"groups\"][0][\"items\"]\n",
    "    \n",
    "    \n",
    "#     print(len(venues))\n",
    "    \n",
    "    if len(venues)==0:\n",
    "        return pd.DataFrame()\n",
    "    \n",
    "    nearby_venues = json_normalize(venues)\n",
    "\n",
    "    # # filter columns\n",
    "    filtered_columns = ['venue.name', 'venue.categories','venue.location.city', 'venue.location.lat', 'venue.location.lng', 'venue.location.distance']\n",
    "    nearby_venues =nearby_venues.loc[:, filtered_columns]\n",
    "\n",
    "    # filter the category for each row\n",
    "    nearby_venues['venue.categories'] = nearby_venues.apply(get_category_type, axis=1)\n",
    "    nearby_venues[\"venue.location.city\"] = nearby_venues[\"venue.location.city\"].fillna(method = \"ffill\")\n",
    "\n",
    "    # # clean columns\n",
    "    nearby_venues.columns = [col.split(\".\")[-1] for col in nearby_venues.columns]\n",
    "    \n",
    "    nearby_venues.loc[:,\"Neighbourhood\"] = neigbh\n",
    "    nearby_venues.loc[:,\"latitude\"] = latitude\n",
    "    nearby_venues.loc[:,\"longitude\"] = longitude\n",
    "\n",
    "    return nearby_venues"
   ]
  },
  {
   "cell_type": "code",
   "execution_count": 111,
   "metadata": {},
   "outputs": [],
   "source": [
    "def get_top_five_common_places(borough):\n",
    "    borough_venues = pd.DataFrame()\n",
    "    for neigbh,latitude,longitude  in  clusters_df.loc[clusters_df[\"Borough\"] == borough,[\"Neighbourhood\",\"Latitude\",\"Longitude\"]].values:\n",
    "        print(neigbh,latitude,longitude )\n",
    "        venue_df = explore_venues(neigbh , latitude , longitude)\n",
    "\n",
    "        borough_venues = pd.concat([borough_venues,venue_df],sort=False)\n",
    "\n",
    "\n",
    "    borough_categories = pd.get_dummies(borough_venues[\"categories\"], prefix=\"\", prefix_sep=\"\")\n",
    "    borough_categories.loc[:,\"Neighbourhood\"] = borough_venues[\"Neighbourhood\"].values\n",
    "    borough_venues_grouped = borough_categories.groupby(\"Neighbourhood\").mean()\n",
    "\n",
    "    five_most_common_venues = borough_venues_grouped.T.apply(lambda x : x.sort_values(ascending=False).index[:5]).T\n",
    "    \n",
    "    five_most_common_venues.columns = [\"1st Most Common Venue\" ,\"2nd Most Common Venue\",\"3rd Most Common Venue\",\"4th Most Common Venue\",\"5th Most Common Venue\"]\n",
    "    \n",
    "    five_most_common_venues.loc[:,\"Borough\"] = borough\n",
    "    borough_venues_grouped.loc[:,\"Borough\"] = borough\n",
    "    \n",
    "    five_most_common_venues =five_most_common_venues.reset_index()\n",
    "    borough_venues_grouped =borough_venues_grouped.reset_index()\n",
    "    \n",
    "    return five_most_common_venues,borough_venues_grouped"
   ]
  },
  {
   "cell_type": "markdown",
   "metadata": {},
   "source": [
    "### Top 5 most common Venues"
   ]
  },
  {
   "cell_type": "code",
   "execution_count": 113,
   "metadata": {
    "scrolled": true
   },
   "outputs": [
    {
     "name": "stdout",
     "output_type": "stream",
     "text": [
      "---------------------------\n",
      "Getting Data of Scarborough \n",
      "\n",
      "Rouge,Malvern 43.8113 -79.193\n",
      "Highland Creek,Rouge Hill,Port Union 43.7878 -79.1564\n",
      "Guildwood,Morningside,West Hill 43.7678 -79.1866\n",
      "Woburn 43.7712 -79.2144\n",
      "Cedarbrae 43.7686 -79.2389\n",
      "Scarborough Village 43.7464 -79.2323\n",
      "East Birchmount Park,Ionview,Kennedy Park 43.7298 -79.2639\n",
      "Clairlea,Golden Mile,Oakridge 43.7122 -79.2843\n",
      "Cliffcrest,Cliffside,Scarborough Village West 43.7247 -79.2312\n",
      "Birch Cliff,Cliffside West 43.6952 -79.2646\n",
      "Dorset Park,Scarborough Town Centre,Wexford Heights 43.7612 -79.2707\n",
      "Maryvale,Wexford 43.7507 -79.3003\n",
      "Agincourt 43.7946 -79.2644\n",
      "Clarks Corners,Sullivan,Tam O'Shanter 43.7812 -79.3036\n",
      "Agincourt North,L'Amoreaux East,Milliken,Steeles East 43.8177 -79.2819\n",
      "L'Amoreaux West 43.8016 -79.3216\n",
      "Upper Rouge 43.834 -79.2069\n",
      "---------------------------\n",
      "Getting Data of North York \n",
      "\n",
      "Hillcrest Village 43.8015 -79.3577\n",
      "Fairview,Henry Farm,Oriole 43.7801 -79.3479\n",
      "Bayview Village 43.7797 -79.3813\n",
      "Silver Hills,York Mills 43.7547 -79.3764\n",
      "Newtonbrook,Willowdale 43.7915 -79.4103\n",
      "Willowdale South 43.7673 -79.4111\n",
      "York Mills West 43.75 -79.3978\n",
      "Willowdale West 43.7786 -79.445\n",
      "Parkwoods 43.7545 -79.33\n",
      "Don Mills North 43.745 -79.359\n",
      "Flemingdon Park,Don Mills South 43.7334 -79.3329\n",
      "Bathurst Manor,Downsview North,Wilson Heights 43.7535 -79.4472\n",
      "Northwood Park,York University 43.7694 -79.4921\n",
      "CFB Toronto,Downsview East 43.739 -79.4692\n",
      "Downsview West 43.7334 -79.5116\n",
      "Downsview Central 43.7319 -79.4928\n"
     ]
    },
    {
     "name": "stderr",
     "output_type": "stream",
     "text": [
      "/home/dangar/anaconda3/lib/python3.7/site-packages/pandas/core/indexing.py:1418: FutureWarning: \n",
      "Passing list-likes to .loc or [] with any missing label will raise\n",
      "KeyError in the future, you can use .reindex() as an alternative.\n",
      "\n",
      "See the documentation here:\n",
      "https://pandas.pydata.org/pandas-docs/stable/user_guide/indexing.html#deprecate-loc-reindex-listlike\n",
      "  return self._getitem_tuple(key)\n"
     ]
    },
    {
     "name": "stdout",
     "output_type": "stream",
     "text": [
      "Downsview Northwest 43.7568 -79.521\n",
      "Victoria Village 43.7276 -79.3148\n",
      "Bedford Park,Lawrence Manor East 43.7335 -79.4177\n",
      "Lawrence Heights,Lawrence Manor 43.7223 -79.4504\n",
      "Glencairn 43.7081 -79.4479\n",
      "Downsview,North Park,Upwood Park 43.7137 -79.4869\n",
      "Humber Summit 43.7598 -79.5565\n",
      "Emery,Humberlea 43.7366 -79.5401\n",
      "---------------------------\n",
      "Getting Data of East York \n",
      "\n",
      "Woodbine Gardens,Parkview Hill 43.7063 -79.3094\n",
      "Woodbine Heights 43.6913 -79.3116\n",
      "Leaside 43.7124 -79.3644\n",
      "Thorncliffe Park 43.7059 -79.3464\n",
      "East Toronto 43.6872 -79.3368\n",
      "---------------------------\n",
      "Getting Data of East Toronto \n",
      "\n",
      "The Beaches 43.6784 -79.2941\n",
      "The Danforth West,Riverdale 43.6803 -79.3538\n",
      "The Beaches West,India Bazaar 43.6693 -79.3155\n",
      "Studio District 43.6561 -79.3406\n",
      "Business Reply Mail Processing Centre 969 Eastern 43.7804 -79.2505\n",
      "---------------------------\n",
      "Getting Data of Central Toronto \n",
      "\n",
      "Lawrence Park 43.7301 -79.3935\n",
      "Davisville North 43.7135 -79.3887\n",
      "North Toronto West 43.7143 -79.4065\n",
      "Davisville 43.702 -79.3853\n",
      "Moore Park,Summerhill East 43.6899 -79.3853\n",
      "Deer Park,Forest Hill SE,Rathnelly,South Hill,Summerhill West 43.6861 -79.4025\n",
      "Roselawn 43.7113 -79.4195\n",
      "Forest Hill North,Forest Hill West 43.6966 -79.41199999999998\n",
      "The Annex,North Midtown,Yorkville 43.6736 -79.4035\n",
      "---------------------------\n",
      "Getting Data of Downtown Toronto \n",
      "\n",
      "Rosedale 43.6827 -79.373\n",
      "Cabbagetown,St. James Town 43.6684 -79.3689\n",
      "Church and Wellesley 43.6656 -79.383\n",
      "Harbourfront,Regent Park 43.6555 -79.3626\n",
      "Ryerson,Garden District 43.6572 -79.3783\n",
      "St. James Town 43.6513 -79.3756\n",
      "Berczy Park 43.6456 -79.3754\n",
      "Central Bay Street 43.6564 -79.38600000000002\n",
      "Adelaide,King,Richmond 43.6496 -79.3833\n",
      "Harbourfront East,Toronto Islands,Union Station 43.62300000000001 -79.3936\n",
      "Design Exchange,Toronto Dominion Centre 43.6469 -79.3823\n",
      "Commerce Court,Victoria Hotel 43.6492 -79.3823\n",
      "Harbord,University of Toronto 43.6629 -79.3987\n",
      "Chinatown,Grange Park,Kensington Market 43.6541 -79.3978\n",
      "CN Tower,Bathurst Quay,Island airport,Harbourfront West,King and Spadina,Railway Lands,South Niagara 43.6404 -79.3995\n",
      "Stn A PO Boxes 25 The Esplanade 43.6437 -79.3787\n",
      "First Canadian Place,Underground city 43.6492 -79.3823\n",
      "Christie 43.6683 -79.4205\n",
      "---------------------------\n",
      "Getting Data of York \n",
      "\n",
      "Humewood-Cedarvale 43.6915 -79.4307\n",
      "Caledonia-Fairbanks 43.6889 -79.4507\n",
      "Del Ray,Keelesdale,Mount Dennis,Silverthorn 43.6934 -79.4857\n",
      "The Junction North,Runnymede 43.6748 -79.4839\n",
      "Weston 43.7068 -79.517\n",
      "---------------------------\n",
      "Getting Data of West Toronto \n",
      "\n",
      "Dovercourt Village,Dufferin 43.6655 -79.4378\n",
      "Little Portugal,Trinity 43.648 -79.4177\n",
      "Brockton,Exhibition Place,Parkdale Village 43.6383 -79.4301\n",
      "High Park,The Junction South 43.6605 -79.4633\n",
      "Parkdale,Roncesvalles 43.6469 -79.4521\n",
      "Runnymede,Swansea 43.6512 -79.4828\n",
      "---------------------------\n",
      "Getting Data of Queen's Park \n",
      "\n",
      "Queen's Park 43.6641 -79.3889\n",
      "---------------------------\n",
      "Getting Data of Mississauga \n",
      "\n",
      "Canada Post Gateway Processing Centre 43.637 -79.616\n",
      "---------------------------\n",
      "Getting Data of Etobicoke \n",
      "\n",
      "Humber Bay Shores,Mimico South,New Toronto 43.6075 -79.5013\n",
      "Alderwood,Long Branch 43.6021 -79.5402\n",
      "The Kingsway,Montgomery Road,Old Mill North 43.6518 -79.5076\n",
      "Humber Bay,King's Mill Park,Kingsway Park South East,Mimico NE,Old Mill South,The Queensway East,Royal York South East,Sunnylea 43.6325 -79.4939\n",
      "Kingsway Park South West,Mimico NW,The Queensway West,Royal York South West,South of Bloor 43.6256 -79.5231\n",
      "Islington Avenue 43.6662 -79.5282\n",
      "Cloverdale,Islington,Martin Grove,Princess Gardens,West Deane Park 43.6505 -79.5517\n",
      "Bloordale Gardens,Eringate,Markland Wood,Old Burnhamthorpe 43.6437 -79.5767\n",
      "Westmount 43.6949 -79.5323\n",
      "Kingsview Village,Martin Grove Gardens,Richview Gardens,St. Phillips 43.6898 -79.5582\n",
      "Albion Gardens,Beaumond Heights,Humbergate,Jamestown,Mount Olive,Silverstone,South Steeles,Thistletown 43.7432 -79.5876\n",
      "Northwest 43.7144 -79.5909\n"
     ]
    }
   ],
   "source": [
    "torronto_common_venues = pd.DataFrame()\n",
    "torronto_grouped_venues = pd.DataFrame()\n",
    "\n",
    "\n",
    "for borough in clusters_df.Borough.unique():\n",
    "    print(\"---------------------------\")\n",
    "    print(\"Getting Data of {} \".format(borough))\n",
    "    print()\n",
    "    \n",
    "    commn_df,grouped_df = get_top_five_common_places(borough)\n",
    "    \n",
    "    torronto_common_venues = pd.concat([torronto_common_venues,commn_df],sort=False)\n",
    "    torronto_grouped_venues = pd.concat([torronto_grouped_venues,grouped_df],sort=False)\n",
    "    torronto_grouped_venues = torronto_grouped_venues.fillna(0.0)"
   ]
  },
  {
   "cell_type": "markdown",
   "metadata": {},
   "source": [
    "### Cluster Neighbourhoods "
   ]
  },
  {
   "cell_type": "code",
   "execution_count": 123,
   "metadata": {},
   "outputs": [],
   "source": [
    "# import k-means from clustering stage\n",
    "from sklearn.cluster import KMeans"
   ]
  },
  {
   "cell_type": "code",
   "execution_count": 130,
   "metadata": {},
   "outputs": [
    {
     "data": {
      "text/plain": [
       "array([0, 2, 0, 2, 0, 0, 0, 0, 0, 0], dtype=int32)"
      ]
     },
     "execution_count": 130,
     "metadata": {},
     "output_type": "execute_result"
    }
   ],
   "source": [
    "# set number of clusters\n",
    "kclusters = 5\n",
    "\n",
    "c_toronto_grouped_clustering = torronto_grouped_venues.drop(['Neighbourhood','Borough'], 1)\n",
    "\n",
    "# run k-means clustering\n",
    "kmeans = KMeans(n_clusters=kclusters, random_state=0).fit(c_toronto_grouped_clustering)\n",
    "\n",
    "# check cluster labels generated for each row in the dataframe\n",
    "kmeans.labels_[0:10] "
   ]
  },
  {
   "cell_type": "code",
   "execution_count": 132,
   "metadata": {},
   "outputs": [],
   "source": [
    "torronto_grouped_venues.loc[:,\"cluster_no\"] = kmeans.labels_"
   ]
  },
  {
   "cell_type": "code",
   "execution_count": 137,
   "metadata": {},
   "outputs": [],
   "source": [
    "updt_clusters_df = clusters_df.merge(torronto_grouped_venues.loc[:,[\"Neighbourhood\",\"cluster_no\"]],on=\"Neighbourhood\")"
   ]
  },
  {
   "cell_type": "code",
   "execution_count": 138,
   "metadata": {},
   "outputs": [
    {
     "data": {
      "text/html": [
       "<div>\n",
       "<style scoped>\n",
       "    .dataframe tbody tr th:only-of-type {\n",
       "        vertical-align: middle;\n",
       "    }\n",
       "\n",
       "    .dataframe tbody tr th {\n",
       "        vertical-align: top;\n",
       "    }\n",
       "\n",
       "    .dataframe thead th {\n",
       "        text-align: right;\n",
       "    }\n",
       "</style>\n",
       "<table border=\"1\" class=\"dataframe\">\n",
       "  <thead>\n",
       "    <tr style=\"text-align: right;\">\n",
       "      <th></th>\n",
       "      <th>Postcode</th>\n",
       "      <th>Borough</th>\n",
       "      <th>Neighbourhood</th>\n",
       "      <th>Latitude</th>\n",
       "      <th>Longitude</th>\n",
       "      <th>cluster_no</th>\n",
       "    </tr>\n",
       "  </thead>\n",
       "  <tbody>\n",
       "    <tr>\n",
       "      <td>0</td>\n",
       "      <td>M1B</td>\n",
       "      <td>Scarborough</td>\n",
       "      <td>Rouge,Malvern</td>\n",
       "      <td>43.8113</td>\n",
       "      <td>-79.1930</td>\n",
       "      <td>1</td>\n",
       "    </tr>\n",
       "    <tr>\n",
       "      <td>1</td>\n",
       "      <td>M1E</td>\n",
       "      <td>Scarborough</td>\n",
       "      <td>Guildwood,Morningside,West Hill</td>\n",
       "      <td>43.7678</td>\n",
       "      <td>-79.1866</td>\n",
       "      <td>0</td>\n",
       "    </tr>\n",
       "    <tr>\n",
       "      <td>2</td>\n",
       "      <td>M1G</td>\n",
       "      <td>Scarborough</td>\n",
       "      <td>Woburn</td>\n",
       "      <td>43.7712</td>\n",
       "      <td>-79.2144</td>\n",
       "      <td>1</td>\n",
       "    </tr>\n",
       "    <tr>\n",
       "      <td>3</td>\n",
       "      <td>M1H</td>\n",
       "      <td>Scarborough</td>\n",
       "      <td>Cedarbrae</td>\n",
       "      <td>43.7686</td>\n",
       "      <td>-79.2389</td>\n",
       "      <td>2</td>\n",
       "    </tr>\n",
       "    <tr>\n",
       "      <td>4</td>\n",
       "      <td>M1J</td>\n",
       "      <td>Scarborough</td>\n",
       "      <td>Scarborough Village</td>\n",
       "      <td>43.7464</td>\n",
       "      <td>-79.2323</td>\n",
       "      <td>2</td>\n",
       "    </tr>\n",
       "    <tr>\n",
       "      <td>...</td>\n",
       "      <td>...</td>\n",
       "      <td>...</td>\n",
       "      <td>...</td>\n",
       "      <td>...</td>\n",
       "      <td>...</td>\n",
       "      <td>...</td>\n",
       "    </tr>\n",
       "    <tr>\n",
       "      <td>94</td>\n",
       "      <td>M9N</td>\n",
       "      <td>York</td>\n",
       "      <td>Weston</td>\n",
       "      <td>43.7068</td>\n",
       "      <td>-79.5170</td>\n",
       "      <td>1</td>\n",
       "    </tr>\n",
       "    <tr>\n",
       "      <td>95</td>\n",
       "      <td>M9P</td>\n",
       "      <td>Etobicoke</td>\n",
       "      <td>Westmount</td>\n",
       "      <td>43.6949</td>\n",
       "      <td>-79.5323</td>\n",
       "      <td>0</td>\n",
       "    </tr>\n",
       "    <tr>\n",
       "      <td>96</td>\n",
       "      <td>M9R</td>\n",
       "      <td>Etobicoke</td>\n",
       "      <td>Kingsview Village,Martin Grove Gardens,Richvie...</td>\n",
       "      <td>43.6898</td>\n",
       "      <td>-79.5582</td>\n",
       "      <td>0</td>\n",
       "    </tr>\n",
       "    <tr>\n",
       "      <td>97</td>\n",
       "      <td>M9V</td>\n",
       "      <td>Etobicoke</td>\n",
       "      <td>Albion Gardens,Beaumond Heights,Humbergate,Jam...</td>\n",
       "      <td>43.7432</td>\n",
       "      <td>-79.5876</td>\n",
       "      <td>0</td>\n",
       "    </tr>\n",
       "    <tr>\n",
       "      <td>98</td>\n",
       "      <td>M9W</td>\n",
       "      <td>Etobicoke</td>\n",
       "      <td>Northwest</td>\n",
       "      <td>43.7144</td>\n",
       "      <td>-79.5909</td>\n",
       "      <td>0</td>\n",
       "    </tr>\n",
       "  </tbody>\n",
       "</table>\n",
       "<p>99 rows × 6 columns</p>\n",
       "</div>"
      ],
      "text/plain": [
       "   Postcode      Borough                                      Neighbourhood  \\\n",
       "0       M1B  Scarborough                                      Rouge,Malvern   \n",
       "1       M1E  Scarborough                    Guildwood,Morningside,West Hill   \n",
       "2       M1G  Scarborough                                             Woburn   \n",
       "3       M1H  Scarborough                                          Cedarbrae   \n",
       "4       M1J  Scarborough                                Scarborough Village   \n",
       "..      ...          ...                                                ...   \n",
       "94      M9N         York                                             Weston   \n",
       "95      M9P    Etobicoke                                          Westmount   \n",
       "96      M9R    Etobicoke  Kingsview Village,Martin Grove Gardens,Richvie...   \n",
       "97      M9V    Etobicoke  Albion Gardens,Beaumond Heights,Humbergate,Jam...   \n",
       "98      M9W    Etobicoke                                          Northwest   \n",
       "\n",
       "    Latitude  Longitude  cluster_no  \n",
       "0    43.8113   -79.1930           1  \n",
       "1    43.7678   -79.1866           0  \n",
       "2    43.7712   -79.2144           1  \n",
       "3    43.7686   -79.2389           2  \n",
       "4    43.7464   -79.2323           2  \n",
       "..       ...        ...         ...  \n",
       "94   43.7068   -79.5170           1  \n",
       "95   43.6949   -79.5323           0  \n",
       "96   43.6898   -79.5582           0  \n",
       "97   43.7432   -79.5876           0  \n",
       "98   43.7144   -79.5909           0  \n",
       "\n",
       "[99 rows x 6 columns]"
      ]
     },
     "execution_count": 138,
     "metadata": {},
     "output_type": "execute_result"
    }
   ],
   "source": [
    "updt_clusters_df"
   ]
  }
 ],
 "metadata": {
  "kernelspec": {
   "display_name": "Python 3",
   "language": "python",
   "name": "python3"
  },
  "language_info": {
   "codemirror_mode": {
    "name": "ipython",
    "version": 3
   },
   "file_extension": ".py",
   "mimetype": "text/x-python",
   "name": "python",
   "nbconvert_exporter": "python",
   "pygments_lexer": "ipython3",
   "version": "3.7.1"
  }
 },
 "nbformat": 4,
 "nbformat_minor": 1
}
